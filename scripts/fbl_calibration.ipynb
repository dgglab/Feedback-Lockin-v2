{
 "cells": [
  {
   "cell_type": "code",
   "execution_count": 1,
   "id": "9b7c36d2-712f-436f-9486-ce4225e1714f",
   "metadata": {},
   "outputs": [
    {
     "name": "stdout",
     "output_type": "stream",
     "text": [
      "Logging hadn't been started.\n",
      "Activating auto-logging. Current session state plus future input saved.\n",
      "Filename       : C:\\Users\\barna\\.qcodes\\logs\\command_history.log\n",
      "Mode           : append\n",
      "Output logging : True\n",
      "Raw input log  : False\n",
      "Timestamping   : True\n",
      "State          : active\n",
      "Qcodes Logfile : C:\\Users\\barna\\.qcodes\\logs\\220804-19484-qcodes.log\n"
     ]
    }
   ],
   "source": [
    "import numpy as np\n",
    "import csv\n",
    "import sys\n",
    "import socket\n",
    "from functools import partial\n",
    "import time\n",
    "import pandas as pd\n",
    "\n",
    "\n",
    "path = r'C:\\Users\\barna\\Documents\\Feedback-Lockin-v2-master\\scripts' #<------- your path here\n",
    "sys.path.append(path)\n",
    "import feedbackLockin_qcodes_module as fbl\n",
    "\n",
    "from qcodes.instrument_drivers.tektronix.Keithley_2450 import Keithley2450"
   ]
  },
  {
   "cell_type": "code",
   "execution_count": 2,
   "id": "bcd68493-275d-4371-b2b7-b3c76aa48ac4",
   "metadata": {},
   "outputs": [],
   "source": [
    "fbl = fbl.FeedbackLockin('fbl', TCPport=10000)"
   ]
  },
  {
   "cell_type": "code",
   "execution_count": 5,
   "id": "50aebc48-585d-4d42-ad87-8aeec14b52cd",
   "metadata": {},
   "outputs": [
    {
     "name": "stdout",
     "output_type": "stream",
     "text": [
      "Connected to: KEITHLEY INSTRUMENTS 2450 (serial:04454022, firmware:1.6.7c) in 0.04s\n"
     ]
    }
   ],
   "source": [
    "k2450 = Keithley2450('keithley', 'TCPIP0::192.168.236.102::5025::SOCKET')\n",
    "k2450.source.function(\"voltage\")\n",
    "k2450.sense.function(\"current\")\n",
    "k2450.output_enabled(True)\n",
    "k2450.sense.auto_range(True)\n",
    "k2450.source.range(20)"
   ]
  },
  {
   "cell_type": "markdown",
   "id": "ad814679-53c3-4548-971d-a81c726bc054",
   "metadata": {},
   "source": [
    "The functions `fbl_first_outputCalibration`, `fbl_inputCalibration`, and, `fbl_outputCalibration` calibrate the feedback lock-in instrument. The first output channel is calibrated by measuring the current with a keithley source meter 2450 for a known applied output voltage. The gain of one input amplifier is measured, using the first calibrated output, by passing a known current through a known resistance and recording the pre-amplified potential. The 31 remaining output channels are calibrated from the first input, and the 31 remaining inputs are calibrated with a single output channel (other than the first). See [forthcoming] for a calibration setup picture/diagram.\n",
    "<br>\n",
    "<br>\n",
    "The calibration data is automatically saved in csv files-- `C:\\Users\\barna\\Documents\\Feedback-Lockin-v2-master\\scripts\\fbl_channelGains.csv` and `C:\\Users\\barna\\Documents\\Feedback-Lockin-v2-master\\scripts\\fbl_currents.csv`-- so that the qcodes instrument driver can acess these values. "
   ]
  },
  {
   "cell_type": "code",
   "execution_count": 16,
   "id": "79491c0e-980f-439e-a17f-e22ea65ecc88",
   "metadata": {},
   "outputs": [],
   "source": [
    "def sample_until_precision_reached(fun_in,precision_in, N_init=50):\n",
    "    '''\n",
    "    samples data from a generic function, measure the standard deviation\n",
    "    of samples and averages until a specified precision has been met. \n",
    "    Note, the precision is \"one-sigma\", so you may want a tighter bound.\n",
    "    '''\n",
    "    \n",
    "    _std=np.infty\n",
    "    N_tot=1\n",
    "    first_step = True\n",
    "    while _std/np.sqrt(N_tot)>precision_in:\n",
    "        _new_samples = np.zeros(N_init)\n",
    "        for i in range(N_init):\n",
    "            _new_samples[i] = fun_in()        \n",
    "        _N_new = len(_new_samples)\n",
    "        \n",
    "        if first_step == True:\n",
    "            _samples=_new_samples\n",
    "            _N_old = 0\n",
    "            first_step = False\n",
    "        else:\n",
    "            _old_samples = _samples\n",
    "            _N_old = len(_old_samples)\n",
    "            _samples = np.zeros(_N_old+_N_new)\n",
    "            _samples[0:_N_old]=_old_samples\n",
    "            _samples[(_N_old-1):-1]=_new_samples\n",
    "            \n",
    "        _std = np.std(_samples)\n",
    "        _mean = np.mean(_samples)\n",
    "        N_tot = _N_old+_N_new\n",
    "        \n",
    "    return _mean, N_tot\n",
    "\n",
    "def sample_amplifiedVin(ch):\n",
    "    # gets amplified voltage from fbl's inputs and waits 1 second\n",
    "    \n",
    "    time.sleep(1)\n",
    "    fbl.TCPdata.get()\n",
    "    Vmeas= fbl.allData.get()[ch,2]\n",
    "    \n",
    "    return Vmeas\n",
    "    \n",
    "def measure_Iout(ch, Rbias_N):\n",
    "    # measures the current through the specified output\n",
    "\n",
    "    # get reference current from currents.csv\n",
    "    path = 'C:/Users/barna/Documents/Feedback-Lockin-v2-master/scripts'\n",
    "    Iout_ref = read_csv(path+'/fbl_currents.csv')\n",
    "    Iref = Iout_ref[ch,Rbias_N]\n",
    "                    \n",
    "    # record current through output\n",
    "    fbl.TCPdata.get()\n",
    "    return fbl.getIout(ch, Iref)\n",
    "\n",
    "\n",
    "def sample_Vin(ch, gain):\n",
    "                    \n",
    "    # record current through output\n",
    "    time.sleep(1)\n",
    "    fbl.TCPdata.get()\n",
    "    return fbl.getVin(ch, gain)\n",
    "\n",
    "def sample_keithleyI():\n",
    "    \n",
    "    time.sleep(1)\n",
    "    return k2450.sense.current()\n",
    "\n",
    "def read_csv(csvPath):\n",
    "    # returns the specified csv as an array\n",
    "    \n",
    "    dataframe = pd.read_csv(csvPath, header=None)\n",
    "    arr = dataframe.to_numpy()   \n",
    "    return arr\n",
    "\n",
    "    \n",
    "def store_inCSV(csvPath, element, val):\n",
    "    # stores val in the specified element of csv\n",
    "    \n",
    "    row = element[0]\n",
    "    col = element[1]\n",
    "    \n",
    "    # gets array from csv and overwrites the specifed element\n",
    "    arr = read_csv(csvPath)\n",
    "    arr[row, col] = val\n",
    "    \n",
    "    # save updated array to same location\n",
    "    pd.DataFrame(arr).to_csv(csvPath, index=False, header=False)\n",
    "    \n",
    "    \n",
    "    \n",
    "def fbl_inputCalibration(ch_N, gain_N, output_N=1, Rbias_N=3, RtoGround=923, precision=.001, Vout=7, save=True):\n",
    "    '''\n",
    "    AC calibration;\n",
    "    calibrates ch with the specified gain setting; stores measured gain and phase offsets to fbl_channelGains.csv adn fbl_phases.csv\n",
    "    source is the output channel connected to the input with the specified bias resistor setting\n",
    "    R_toGround is the resistance from the current source to ground'''\n",
    "    \n",
    "    fbl.connectTCP()\n",
    "    \n",
    "    t0= time.time()\n",
    "    \n",
    "    # apply 7V to outputs and measure current\n",
    "    fbl.setVout(output_N, Vout)\n",
    "    time.sleep(5)\n",
    "    Iout = measure_Iout(output_N, Rbias_N-1)\n",
    "    \n",
    "    sample_func =partial(sample_amplifiedVin, ch=ch_N)\n",
    "    Vmeas, Nsamples  = sample_until_precision_reached(sample_func, precision) \n",
    "    \n",
    "    # compute gain\n",
    "    gain = Vmeas/(Iout *RtoGround)\n",
    "    \n",
    "    path = 'C:/Users/barna/Documents/Feedback-Lockin-v2-master/scripts'\n",
    "    if save:\n",
    "        store_inCSV(path+'/fbl_channelGains.csv', [ch_N, gain_N], gain)\n",
    "    \n",
    "    tf = time.time()\n",
    "    fbl.closeTCP()\n",
    "    \n",
    "    print(f\"Calibrated input ch{ch_N}, gain setting {gain_N}\")\n",
    "    print(f\"calibrated gain: {gain}\")\n",
    "    print(f\"Samples: {Nsamples}\")\n",
    "    print(f\"Time: {tf-t0}\")\n",
    "    \n",
    "\n",
    "def fbl_outputCalibration(ch_N, Rbias_N, input_N=30, gain_N=2, RtoGround=923, precision=.001, Vout=7, save=True):\n",
    "    '''\n",
    "    AC calibration;\n",
    "    calibrates ch with the specified bias resistor setting; stores reference (at 1V) current to fbl.currents.csv'''\n",
    "    \n",
    "    fbl.connectTCP()\n",
    "    \n",
    "    t0= time.time()\n",
    "    \n",
    "    # apply 7V to outputs and measure current\n",
    "    fbl.setVout(ch_N, Vout)\n",
    "    time.sleep(5)\n",
    "    \n",
    "    # get ch gain from csv\n",
    "    path = 'C:/Users/barna/Documents/Feedback-Lockin-v2-master/scripts'\n",
    "    gains = read_csv(path+'/fbl_channelGains.csv')\n",
    "    gain = gains[input_N, gain_N]\n",
    "    \n",
    "    sample_func =partial(sample_Vin, ch=input_N, gain=gain)\n",
    "    Vin, Nsamples  = sample_until_precision_reached(sample_func, precision) \n",
    "    \n",
    "    # compute reference current\n",
    "    Iref = Vin/( RtoGround*Vout)\n",
    "    \n",
    "    if save:\n",
    "        store_inCSV(path+'/fbl_currents.csv', [ch_N, Rbias_N-1], Iref)\n",
    "    \n",
    "    tf = time.time()\n",
    "    fbl.closeTCP()\n",
    "    \n",
    "    print(f\"Calibrated output ch{ch_N}, bias resistor setting {Rbias_N}\")\n",
    "    print(f\"calibrated reference current: {Iref}\")\n",
    "    print(f\"Samples: {Nsamples}\")\n",
    "    print(f\"Time: {tf-t0}\")\n",
    "    \n",
    "    \n",
    "    \n",
    "def fbl_first_calibration(Vout, precision=.001):\n",
    "    '''\n",
    "    DC calibration:\n",
    "    calibrates ch with the specified bias resistor setting; when running this function\n",
    "    on NImax, open NIPCIe-6738 \"Dev1\"; open test panels. Output 'Vout' Volts DC to the specified channel'''\n",
    "      \n",
    "    t0= time.time()\n",
    "        \n",
    "    # initialize keithley    \n",
    "    k2450.output_enabled(True)\n",
    "    k2450.source.function(\"voltage\")\n",
    "    k2450.source.voltage(1.)\n",
    "    k2450.sense.function(\"current\")\n",
    "    sample_func = sample_keithleyI\n",
    "    \n",
    "    Imeas, Nsamples  = sample_until_precision_reached(sample_func, precision) \n",
    "    \n",
    "    # the current produced by 1V\n",
    "    \n",
    "    tf = time.time()\n",
    "    \n",
    "    print(f'first output calibration; measured current:{Imeas}; sourced DC voltage: {Vout}')\n",
    "    print(f\"Samples: {Nsamples}\")\n",
    "    print(f\"Time: {tf-t0}\")\n",
    "    \n",
    "    return (-Imeas, Vout)\n",
    "    \n",
    "def fbl_save_first_calibration(ch_N, Rbias_N, Imeas_1, Imeas_2, Vout_1=5, Vout_2=-5):\n",
    "    '''\n",
    "    run this after taking two (Vout, Imeas) calibrations using the 'fbl_first_calibration' function;\n",
    "    stores reference (at 1V) current, for the specified channel, resistor setting, to fbl.currents.csv;\n",
    "    takes the difference of two output calibrations at different Vouts to mitigate offsets'''\n",
    "    \n",
    "    Iref_out = (Imeas_1-Imeas_2)/(Vout_1-Vout_2)\n",
    "    \n",
    "    path = 'C:/Users/barna/Documents/Feedback-Lockin-v2-master/scripts'\n",
    "    store_inCSV(path+'/fbl_currents.csv', [ch_N, Rbias_N-1], Iref_out)\n",
    "    \n",
    "    print(f\"Calibrated output ch{ch_N}, bias resistor setting {Rbias_N}\")\n",
    "    print(f\"calibrated reference current: {Iref_out}\")\n",
    "    "
   ]
  },
  {
   "cell_type": "code",
   "execution_count": 11,
   "id": "3d35309d-3f75-4ccc-9623-a2fca609cb99",
   "metadata": {},
   "outputs": [
    {
     "name": "stdout",
     "output_type": "stream",
     "text": [
      "first output calibration; measured current:-4.0088617e-08; sourced DC voltage: 5\n",
      "Samples: 50\n",
      "Time: 53.994975090026855\n"
     ]
    }
   ],
   "source": [
    "#first output calibration\n",
    "\n",
    "Imeas_1, Vout_1 = fbl_first_calibration(5)"
   ]
  },
  {
   "cell_type": "code",
   "execution_count": 12,
   "id": "3ea6511a-ec32-455b-8f5a-4c0bb80b91ba",
   "metadata": {},
   "outputs": [
    {
     "name": "stdout",
     "output_type": "stream",
     "text": [
      "first output calibration; measured current:6.01372796e-08; sourced DC voltage: -5\n",
      "Samples: 50\n",
      "Time: 53.98250079154968\n"
     ]
    }
   ],
   "source": [
    "Imeas_2, Vout_2 = fbl_first_calibration(-5)"
   ]
  },
  {
   "cell_type": "code",
   "execution_count": 13,
   "id": "5623bd13-bbfc-4bc1-b477-4cb63e251f9f",
   "metadata": {},
   "outputs": [
    {
     "name": "stdout",
     "output_type": "stream",
     "text": [
      "Calibrated output ch0, bias resistor setting 3\n",
      "calibrated reference current: 1.002258966e-08\n"
     ]
    }
   ],
   "source": [
    "ch_N = 0\n",
    "Rbias_N = 3\n",
    "\n",
    "fbl_save_first_calibration(ch_N, Rbias_N, Imeas_1, Imeas_2, Vout_1=Vout_1, Vout_2=Vout_2)"
   ]
  },
  {
   "cell_type": "code",
   "execution_count": 30,
   "id": "9b8a2f91-6cfe-4b06-9a0a-f9b17a34f31d",
   "metadata": {},
   "outputs": [
    {
     "name": "stdout",
     "output_type": "stream",
     "text": [
      "connected to FBL TCP server\n",
      "disconnected from FBL TCP server\n",
      "Calibrated input ch0, gain setting 3\n",
      "calibrated gain: 110106.07901195987\n",
      "Samples: 50\n",
      "Time: 57.83253502845764\n"
     ]
    }
   ],
   "source": [
    "#inputs\n",
    "\n",
    "ch_N = 0\n",
    "gain_N = 3\n",
    "\n",
    "fbl_inputCalibration(ch_N,gain_N, output_N=0,Rbias_N=3, RtoGround=923.17, precision=.001, Vout=8, save=False)"
   ]
  },
  {
   "cell_type": "code",
   "execution_count": 19,
   "id": "6be57b28-e3d7-4256-9fd9-16359ffebc6f",
   "metadata": {},
   "outputs": [
    {
     "name": "stdout",
     "output_type": "stream",
     "text": [
      "connected to FBL TCP server\n",
      "disconnected from FBL TCP server\n",
      "Calibrated output ch0, bias resistor setting 3\n",
      "calibrated reference current: 0.0\n",
      "Samples: 50\n",
      "Time: 57.827256202697754\n"
     ]
    }
   ],
   "source": [
    "# outputs\n",
    "\n",
    "ch_N =0\n",
    "Rbias_N = 3\n",
    "\n",
    "fbl_outputCalibration(ch_N, Rbias_N, input_N=1, gain_N=2, RtoGround=923.17, precision=.001, Vout=10)"
   ]
  },
  {
   "cell_type": "code",
   "execution_count": 27,
   "id": "8931cff7-6bce-44a1-835e-8abc99bdf695",
   "metadata": {},
   "outputs": [
    {
     "name": "stdout",
     "output_type": "stream",
     "text": [
      "disconnected from FBL TCP server\n"
     ]
    }
   ],
   "source": [
    "fbl.closeTCP()"
   ]
  },
  {
   "cell_type": "code",
   "execution_count": null,
   "id": "2772be5f-a456-4740-b4f4-46d2cfc4e0fd",
   "metadata": {},
   "outputs": [],
   "source": []
  }
 ],
 "metadata": {
  "kernelspec": {
   "display_name": "Python 3 (ipykernel)",
   "language": "python",
   "name": "python3"
  },
  "language_info": {
   "codemirror_mode": {
    "name": "ipython",
    "version": 3
   },
   "file_extension": ".py",
   "mimetype": "text/x-python",
   "name": "python",
   "nbconvert_exporter": "python",
   "pygments_lexer": "ipython3",
   "version": "3.9.7"
  }
 },
 "nbformat": 4,
 "nbformat_minor": 5
}
